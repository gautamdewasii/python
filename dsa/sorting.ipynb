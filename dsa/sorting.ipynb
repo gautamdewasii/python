{
 "cells": [
  {
   "cell_type": "code",
   "execution_count": 48,
   "metadata": {},
   "outputs": [],
   "source": [
    "from typing import List\n",
    "import random"
   ]
  },
  {
   "cell_type": "markdown",
   "metadata": {},
   "source": [
    "# Test Cases :-"
   ]
  },
  {
   "cell_type": "code",
   "execution_count": 54,
   "metadata": {},
   "outputs": [],
   "source": [
    "import random\n",
    "\n",
    "def test_sort_function(sort_function):\n",
    "    test_cases = [\n",
    "        # ✅ Basic Cases\n",
    "        ([8, 4, 2, 1], [1, 2, 4, 8]),  # Unsorted list\n",
    "        ([1, 2, 3, 4, 5], [1, 2, 3, 4, 5]),  # Already sorted\n",
    "        ([5, 4, 3, 2, 1], [1, 2, 3, 4, 5]),  # Reverse sorted\n",
    "        ([4, 2, 2, 8, 3, 3, 1], [1, 2, 2, 3, 3, 4, 8]),  # Duplicates\n",
    "\n",
    "        # ✅ Edge Cases\n",
    "        ([], []),  # Empty list\n",
    "        ([42], [42]),  # Single element\n",
    "        ([1, 2], [1, 2]),  # Two elements sorted\n",
    "        ([2, 1], [1, 2]),  # Two elements unsorted\n",
    "        ([7, 7, 7, 7], [7, 7, 7, 7]),  # All identical elements\n",
    "\n",
    "        # ✅ Negative & Mixed Numbers\n",
    "        ([-3, -1, -4, -2, 0], [-4, -3, -2, -1, 0]),  # All negative + zero\n",
    "        ([10, -10, 20, -20, 0], [-20, -10, 0, 10, 20]),  # Positive, negative, zero\n",
    "        ([-5, -5, 5, 5, 0, 0], [-5, -5, 0, 0, 5, 5]),  # Repeating negative & positive\n",
    "\n",
    "        # ✅ Large Cases\n",
    "        (list(range(1000)), list(range(1000))),  # Large sorted\n",
    "        (list(range(1000, 0, -1)), list(range(1, 1001))),  # Large reverse sorted\n",
    "        (random.sample(range(1000), 1000), sorted(range(1000))),  # Large random\n",
    "\n",
    "        # ✅ Floating-Point Numbers\n",
    "        ([1.1, 3.5, 2.2, 4.4], [1.1, 2.2, 3.5, 4.4]),  # All floats\n",
    "        ([2, 3.1, 1.5, 4], [1.5, 2, 3.1, 4]),  # Mixed integers and floats\n",
    "        ([3.14, 2.71, 1.41, 1.73], [1.41, 1.73, 2.71, 3.14]),  # Pi-related numbers\n",
    "\n",
    "        # ✅ Strings (Lexicographical Order)\n",
    "        ([\"banana\", \"apple\", \"cherry\"], [\"apple\", \"banana\", \"cherry\"]),  # Basic words\n",
    "        ([\"Apple\", \"banana\", \"apple\"], [\"Apple\", \"apple\", \"banana\"]),  # Case-sensitive\n",
    "        ([\"a1\", \"a10\", \"a2\", \"a20\"], [\"a1\", \"a10\", \"a2\", \"a20\"]),  # Alphanumeric order\n",
    "\n",
    "        # ✅ Special Cases\n",
    "        ([10**6, 10**5, 10**7], [10**5, 10**6, 10**7]),  # Large numbers\n",
    "        ([0.0001, 0.1, 0.01, 0.001], [0.0001, 0.001, 0.01, 0.1]),  # Small decimal values\n",
    "    ]\n",
    "\n",
    "    for i, (arr, expected) in enumerate(test_cases):\n",
    "        result = sort_function(arr.copy())  # Use copy() to avoid modifying original list\n",
    "        assert result == expected, f\"❌ Test case {i+1} failed: {arr} -> {result} (Expected: {expected})\"\n",
    "    \n",
    "    print(\"✅ All test cases passed!\")\n",
    "\n"
   ]
  },
  {
   "cell_type": "markdown",
   "metadata": {},
   "source": [
    "# Bubble sorting:- \n",
    "-> taking first two elements and if left is larger then right element, swaping takes place. <br>\n",
    "-> continue till we get the largest element at the most right side of array. <br>\n",
    "<b style=\"color: green;\">\n",
    "TIME COMPLEXITY :- O(N^2) worst/best<br>\n",
    "SPACE COMPLEXITY :- O(1)"
   ]
  },
  {
   "cell_type": "code",
   "execution_count": 59,
   "metadata": {},
   "outputs": [
    {
     "name": "stdout",
     "output_type": "stream",
     "text": [
      "[3, 5, 10, 20, 40, 50]\n",
      "✅ All test cases passed!\n",
      "None\n"
     ]
    }
   ],
   "source": [
    "def bubble_sort(arr: List[int]):\n",
    "    \"\"\"\n",
    "    TIME COMPLEXITY :- O(N^2) worst/best\n",
    "    SPACE COMPLEXITY :- O(1)\n",
    "    \"\"\"\n",
    "    n = len(arr)\n",
    "    for i in range(n):\n",
    "        for j in range(n-i-1):  # -1 for j+1\n",
    "            if arr[j]>arr[j+1]:\n",
    "                arr[j], arr[j+1] = arr[j+1], arr[j]\n",
    "    return arr\n",
    "\n",
    "arr = [20, 3, 10, 40, 50, 5]\n",
    "print(bubble_sort(arr))\n",
    "print(test_sort_function(bubble_sort))"
   ]
  },
  {
   "cell_type": "markdown",
   "metadata": {},
   "source": [
    "# Modified Bubble Sorting:-\n",
    "-> Uses flag inside if condition, if flag not changed, array is sorted and exit the loop <br>\n",
    "<b style=\"color: green;\">\n",
    "TIME COMPLEXITY :- O(N^2) worst and O(N) best<br>\n",
    "SPACE COMPLEXITY :- O(1)"
   ]
  },
  {
   "cell_type": "code",
   "execution_count": 60,
   "metadata": {},
   "outputs": [
    {
     "name": "stdout",
     "output_type": "stream",
     "text": [
      "[3, 5, 10, 20, 40, 50]\n",
      "✅ All test cases passed!\n",
      "None\n"
     ]
    }
   ],
   "source": [
    "def bubble_sort(arr: List[int]):\n",
    " \n",
    "    n = len(arr)\n",
    "    for i in range(n):\n",
    "        flag= 0\n",
    "        for j in range(n-i-1):  # -1 for j+1\n",
    "            if arr[j]>arr[j+1]:\n",
    "                arr[j], arr[j+1] = arr[j+1], arr[j]\n",
    "                flag= 1\n",
    "        if flag==0:\n",
    "            return arr\n",
    "    return arr\n",
    "\n",
    "arr = [20, 3, 10, 40, 50, 5]\n",
    "print(bubble_sort(arr))\n",
    "print(test_sort_function(bubble_sort))"
   ]
  },
  {
   "cell_type": "markdown",
   "metadata": {},
   "source": [
    "# Selection Sorting:- \n",
    "->swaping smallest element of the array with left first element of the current unsorted array<br>\n",
    "-> after swaping, left first element included into sorted array<br>\n",
    "<b style=\"color: green;\">\n",
    "TIME COMPLEXITY :- O(N^2) worst/best<br>\n",
    "SPACE COMPLEXITY :- O(1)"
   ]
  },
  {
   "cell_type": "code",
   "execution_count": 61,
   "metadata": {},
   "outputs": [
    {
     "name": "stdout",
     "output_type": "stream",
     "text": [
      "[3, 5, 10, 20, 40, 50]\n",
      "✅ All test cases passed!\n",
      "None\n"
     ]
    }
   ],
   "source": [
    "def min_element(left: int, arr: List[int]):\n",
    "    \n",
    "    min = arr[left]\n",
    "    index = left\n",
    "    for i in range(left+1, len(arr)):\n",
    "        if min>arr[i]:\n",
    "            min = arr[i]\n",
    "            index = i\n",
    "    return index\n",
    "\n",
    "def selection_sort(arr: List[int]):\n",
    "\n",
    "    for i in range(len(arr)):\n",
    "        index = min_element(i, arr)\n",
    "        arr[i], arr[index] = arr[index], arr[i]\n",
    "    return arr\n",
    "\n",
    "\n",
    "arr = [20, 3, 10, 40, 50, 5]\n",
    "print(selection_sort(arr))\n",
    "print(test_sort_function(selection_sort))"
   ]
  },
  {
   "cell_type": "markdown",
   "metadata": {},
   "source": [
    "more compact code :-"
   ]
  },
  {
   "cell_type": "code",
   "execution_count": 62,
   "metadata": {},
   "outputs": [
    {
     "name": "stdout",
     "output_type": "stream",
     "text": [
      "[3, 5, 10, 20, 40, 50]\n",
      "✅ All test cases passed!\n",
      "None\n"
     ]
    }
   ],
   "source": [
    "def selection_sort(arr: List[int]):\n",
    "\n",
    "    for i in range(len(arr)):\n",
    "        min_index = i\n",
    "\n",
    "        for j in range(i+1, len(arr)):\n",
    "            if arr[j]<arr[min_index]:\n",
    "                min_index= j\n",
    "        \n",
    "        arr[i], arr[min_index]= arr[min_index], arr[i]\n",
    "    return arr\n",
    "\n",
    "arr = [20, 3, 10, 40, 50, 5]\n",
    "print(selection_sort(arr))\n",
    "print(test_sort_function(selection_sort))"
   ]
  },
  {
   "cell_type": "markdown",
   "metadata": {},
   "source": [
    "# Insertion Sorting:- \n",
    "->start with comparing 1st two element of unsorted array, if 1st >2nd then swaping takes place.<br>\n",
    "-> and in next iteration, comparing 3rd element with 2nd and 1st and so....on untile nth element comparision.<br>\n",
    "-> in playing cards , we uses this type of sorting.<br>\n",
    "<b style=\"color: green;\">\n",
    "TIME COMPLEXITY :- O(N^2) worst and O(N) for best<br>\n",
    "SPACE COMPLEXITY :- O(1)"
   ]
  },
  {
   "cell_type": "code",
   "execution_count": 68,
   "metadata": {},
   "outputs": [
    {
     "name": "stdout",
     "output_type": "stream",
     "text": [
      "[3, 5, 10, 20, 40, 50]\n",
      "✅ All test cases passed!\n",
      "None\n"
     ]
    }
   ],
   "source": [
    "\"\"\"\n",
    "NOTE:- This approach is working but taking unnecessary swaping while iterating .\n",
    "example :- [4,3,2,1] , firstly swap 3 and 4, in 2nd iteration swap 4 and 3, 2,1 and so on\n",
    "\"\"\"\n",
    "\n",
    "def insertion_sort(arr: List[int]):\n",
    "\n",
    "    for i in range(1, len(arr)):\n",
    "        for j in range(i):\n",
    "            if arr[j]>arr[i]:\n",
    "                arr[j], arr[i] = arr[i], arr[j]\n",
    "    \n",
    "    return arr\n",
    "\n",
    "arr = [20, 3, 10, 40, 50, 5]\n",
    "print(insertion_sort(arr))\n",
    "print(test_sort_function(insertion_sort))"
   ]
  },
  {
   "cell_type": "code",
   "execution_count": 69,
   "metadata": {},
   "outputs": [
    {
     "name": "stdout",
     "output_type": "stream",
     "text": [
      "[3, 5, 10, 20, 40, 50]\n",
      "✅ All test cases passed!\n",
      "None\n"
     ]
    }
   ],
   "source": [
    "\"\"\"\n",
    "More compact and modified solutions\n",
    "\"\"\"\n",
    "\n",
    "def insertion_sort(arr: List[int]):\n",
    "\n",
    "    for i in range(1, len(arr)):\n",
    "        key = arr[i]\n",
    "        j = i-1\n",
    "        # no swaping takes place, only placing elements to the right until perfect position for key\n",
    "        while j>=0 and key<arr[j]:\n",
    "            arr[j+1] = arr[j]\n",
    "            j -=1\n",
    "        arr[j+1] = key\n",
    "    return arr\n",
    "\n",
    "arr = [20, 3, 10, 40, 50, 5]\n",
    "print(insertion_sort(arr))\n",
    "print(test_sort_function(insertion_sort))"
   ]
  },
  {
   "cell_type": "markdown",
   "metadata": {},
   "source": [
    "# Quick Sorting:- \n",
    "->start with comparing 1st two element of unsorted array, if 1st >2nd then swaping takes place.<br>\n",
    "-> and in next iteration, comparing 3rd element with 2nd and 1st and so....on untile nth element comparision.<br>\n",
    "-> in playing cards , we uses this type of sorting.<br>\n",
    "<b style=\"color: green;\">\n",
    "TIME COMPLEXITY :- O(N^2) worst and O(N) for best<br>\n",
    "SPACE COMPLEXITY :- O(1)"
   ]
  },
  {
   "cell_type": "code",
   "execution_count": null,
   "metadata": {},
   "outputs": [],
   "source": []
  }
 ],
 "metadata": {
  "kernelspec": {
   "display_name": "usr",
   "language": "python",
   "name": "python3"
  },
  "language_info": {
   "codemirror_mode": {
    "name": "ipython",
    "version": 3
   },
   "file_extension": ".py",
   "mimetype": "text/x-python",
   "name": "python",
   "nbconvert_exporter": "python",
   "pygments_lexer": "ipython3",
   "version": "3.12.7"
  }
 },
 "nbformat": 4,
 "nbformat_minor": 2
}
